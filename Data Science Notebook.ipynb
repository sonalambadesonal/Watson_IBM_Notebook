{
    "cells": [
        {
            "cell_type": "code",
            "execution_count": 1,
            "metadata": {
                "id": "7592949d-338f-430e-b7e4-eb8207b0b169"
            },
            "outputs": [
                {
                    "name": "stdout",
                    "output_type": "stream",
                    "text": "Hello how are you!\n"
                }
            ],
            "source": "print(\"Hello how are you!\")"
        },
        {
            "cell_type": "markdown",
            "metadata": {
                "id": "a77b8001-1644-4ef7-9e6a-d34e081e3c84"
            },
            "source": "I am doing practice."
        },
        {
            "cell_type": "code",
            "execution_count": null,
            "metadata": {
                "id": "cc5ab30e-6fe8-425c-b4fc-aa371235b12c"
            },
            "outputs": [],
            "source": ""
        }
    ],
    "metadata": {
        "kernelspec": {
            "display_name": "Python 3.11 with Spark",
            "language": "python3",
            "name": "python311"
        },
        "language_info": {
            "codemirror_mode": {
                "name": "ipython",
                "version": 3
            },
            "file_extension": ".py",
            "mimetype": "text/x-python",
            "name": "python",
            "nbconvert_exporter": "python",
            "pygments_lexer": "ipython3",
            "version": "3.11.9"
        }
    },
    "nbformat": 4,
    "nbformat_minor": 4
}